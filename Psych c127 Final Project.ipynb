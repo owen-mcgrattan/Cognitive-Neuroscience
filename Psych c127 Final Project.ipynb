{
 "cells": [
  {
   "cell_type": "markdown",
   "metadata": {},
   "source": [
    "## Modeling Selective Hearing in Rodents: A Replication\n",
    "Owen McGrattan\n",
    "<br>\n",
    "Psych c127\n",
    "<br>\n",
    "ID: 3031834248\n"
   ]
  },
  {
   "cell_type": "markdown",
   "metadata": {},
   "source": [
    "### Introduction"
   ]
  },
  {
   "cell_type": "markdown",
   "metadata": {},
   "source": [
    "I wanted to take a look at some of the data from Mike DeWeese's experiments testing the ability of selective hearing in rats and measuring single unit neuronal responses in medial prefrontal cortex and primary auditory cortex. In the experiment, a rat would be exposed to multiple sounds at once but would only be able to respond to one of them.  It's similar to the way that we are able to focus on a voice in a crowded party or discern multiple voices at once.  Putting to test the idea that the brain is capable of discerning and comprehending different auditory stimuli is an important question to answer in cementing in its complex capability to filter various stimuli.  I wanted to build a classifier that would be able to take neuronal spikes as a function of the audio stimulus given and predict whether or not the rodent would choose the correct option.  It has already been found in the paper that prestimulus activity in the medial prefrontal cortex encoded the stimuli that the rat chose but I wanted to see whether or not I could replicate some of those results in here, infer the results of the paper from the data provided. "
   ]
  },
  {
   "cell_type": "markdown",
   "metadata": {},
   "source": [
    "### Method and Dataset Description"
   ]
  },
  {
   "cell_type": "markdown",
   "metadata": {},
   "source": [
    "Our data has been provided by Mike DeWeese and Chris Rodgers, the authors of the paper.  Each folder in the data file represents a different rat that was used in testing and information on spike times, stimulus and behavioural response, and other trial event information such as stimulus onset.  Each rat was tasked with choosing a hole to poke its nose through based on pretrained audio stimuli.  If they had properly discerned the correct audio stimuli they would be rewared with a water droplet, if they hadn't they'd be placed on a temporary (2-6 s) timeout.  The rats were trained over several months or until they were more able than not to choose the correct audio stimuli.  Neuronal activity was recorded via implanting tetrodes in the brain, focusing on A1 and the mPFC. This allowed for proper recording of single-unit action potentials.  There are two rats of the six who only had data recorded from auditory cortex and we will not be including them in our analysis."
   ]
  },
  {
   "cell_type": "markdown",
   "metadata": {},
   "source": [
    "### Data Analysis"
   ]
  },
  {
   "cell_type": "markdown",
   "metadata": {},
   "source": [
    "#### Cleaning and Prep"
   ]
  },
  {
   "cell_type": "code",
   "execution_count": 1,
   "metadata": {},
   "outputs": [],
   "source": [
    "import numpy as np\n",
    "import pandas as pd\n",
    "from scipy import io as si\n",
    "from matplotlib import pyplot as plt"
   ]
  },
  {
   "cell_type": "markdown",
   "metadata": {},
   "source": [
    "Let's start reading in some of our data. Since all of our data is broken up into different trials, we should first try to open up just one rat's information before we go about aggregating or anything like that."
   ]
  },
  {
   "cell_type": "code",
   "execution_count": 2,
   "metadata": {},
   "outputs": [],
   "source": [
    "spike_times = pd.read_pickle('./data/CR20B/CR20B_120531_001_behaving/klusters0/CR20B_120531_001_behaving.kkp')"
   ]
  },
  {
   "cell_type": "code",
   "execution_count": 5,
   "metadata": {},
   "outputs": [
    {
     "data": {
      "text/html": [
       "<div>\n",
       "<style scoped>\n",
       "    .dataframe tbody tr th:only-of-type {\n",
       "        vertical-align: middle;\n",
       "    }\n",
       "\n",
       "    .dataframe tbody tr th {\n",
       "        vertical-align: top;\n",
       "    }\n",
       "\n",
       "    .dataframe thead th {\n",
       "        text-align: right;\n",
       "    }\n",
       "</style>\n",
       "<table border=\"1\" class=\"dataframe\">\n",
       "  <thead>\n",
       "    <tr style=\"text-align: right;\">\n",
       "      <th></th>\n",
       "      <th>group</th>\n",
       "      <th>time</th>\n",
       "      <th>unit</th>\n",
       "    </tr>\n",
       "  </thead>\n",
       "  <tbody>\n",
       "    <tr>\n",
       "      <th>0</th>\n",
       "      <td>1</td>\n",
       "      <td>0.380000</td>\n",
       "      <td>105</td>\n",
       "    </tr>\n",
       "    <tr>\n",
       "      <th>1</th>\n",
       "      <td>1</td>\n",
       "      <td>0.381733</td>\n",
       "      <td>105</td>\n",
       "    </tr>\n",
       "    <tr>\n",
       "      <th>2</th>\n",
       "      <td>1</td>\n",
       "      <td>0.664733</td>\n",
       "      <td>105</td>\n",
       "    </tr>\n",
       "    <tr>\n",
       "      <th>3</th>\n",
       "      <td>1</td>\n",
       "      <td>0.684000</td>\n",
       "      <td>105</td>\n",
       "    </tr>\n",
       "    <tr>\n",
       "      <th>4</th>\n",
       "      <td>1</td>\n",
       "      <td>0.773700</td>\n",
       "      <td>105</td>\n",
       "    </tr>\n",
       "  </tbody>\n",
       "</table>\n",
       "</div>"
      ],
      "text/plain": [
       "   group      time  unit\n",
       "0      1  0.380000   105\n",
       "1      1  0.381733   105\n",
       "2      1  0.664733   105\n",
       "3      1  0.684000   105\n",
       "4      1  0.773700   105"
      ]
     },
     "execution_count": 5,
     "metadata": {},
     "output_type": "execute_result"
    }
   ],
   "source": [
    "spike_times.head()"
   ]
  },
  {
   "cell_type": "markdown",
   "metadata": {},
   "source": [
    "Before we go any further importing the other data files associated with the same day of testing, we ought to understand the spike times columns and what the values mean.  \n",
    "<br> \n",
    "<b> time </b> - time of the spike in seconds from the beginning of recording session\n",
    "<br>\n",
    "<b> unit </b> - indicator of which single unit produced the spike.  first digit indicates tetrode num it was recorded from\n",
    "<br>\n",
    "<b> group </b> - tetrode num"
   ]
  },
  {
   "cell_type": "code",
   "execution_count": 52,
   "metadata": {},
   "outputs": [],
   "source": [
    "# now to import and join our trial info and timings\n",
    "trial_info = pd.read_table('./data/CR20B/CR20B_120531_001_behaving/trials_info', sep = ',', index_col = 0)\n",
    "trial_timing = pd.read_table('./data/CR20B/CR20B_120531_001_behaving/trial_timings', sep = ',', index_col = 0)\n",
    "trial_info = trial_timing.join(trial_info)"
   ]
  },
  {
   "cell_type": "code",
   "execution_count": 53,
   "metadata": {},
   "outputs": [
    {
     "data": {
      "text/html": [
       "<div>\n",
       "<style scoped>\n",
       "    .dataframe tbody tr th:only-of-type {\n",
       "        vertical-align: middle;\n",
       "    }\n",
       "\n",
       "    .dataframe tbody tr th {\n",
       "        vertical-align: top;\n",
       "    }\n",
       "\n",
       "    .dataframe thead th {\n",
       "        text-align: right;\n",
       "    }\n",
       "</style>\n",
       "<table border=\"1\" class=\"dataframe\">\n",
       "  <thead>\n",
       "    <tr style=\"text-align: right;\">\n",
       "      <th></th>\n",
       "      <th>choice_made</th>\n",
       "      <th>cpoke_start</th>\n",
       "      <th>cpoke_stop</th>\n",
       "      <th>stim_onset</th>\n",
       "      <th>is_munged</th>\n",
       "      <th>correct_side</th>\n",
       "      <th>stim_number</th>\n",
       "      <th>nonrandom</th>\n",
       "      <th>outcome</th>\n",
       "      <th>go_or_nogo</th>\n",
       "      <th>block</th>\n",
       "      <th>stim_name</th>\n",
       "    </tr>\n",
       "  </thead>\n",
       "  <tbody>\n",
       "    <tr>\n",
       "      <th>3</th>\n",
       "      <td>238.074050</td>\n",
       "      <td>237.264617</td>\n",
       "      <td>237.588191</td>\n",
       "      <td>237.523909</td>\n",
       "      <td>False</td>\n",
       "      <td>left</td>\n",
       "      <td>3</td>\n",
       "      <td>1</td>\n",
       "      <td>hit</td>\n",
       "      <td>go</td>\n",
       "      <td>1</td>\n",
       "      <td>le_lc_go</td>\n",
       "    </tr>\n",
       "    <tr>\n",
       "      <th>4</th>\n",
       "      <td>250.086150</td>\n",
       "      <td>249.086196</td>\n",
       "      <td>249.487838</td>\n",
       "      <td>249.413257</td>\n",
       "      <td>False</td>\n",
       "      <td>left</td>\n",
       "      <td>3</td>\n",
       "      <td>1</td>\n",
       "      <td>hit</td>\n",
       "      <td>go</td>\n",
       "      <td>1</td>\n",
       "      <td>le_lc_go</td>\n",
       "    </tr>\n",
       "    <tr>\n",
       "      <th>5</th>\n",
       "      <td>256.169274</td>\n",
       "      <td>255.248223</td>\n",
       "      <td>255.625775</td>\n",
       "      <td>255.586242</td>\n",
       "      <td>False</td>\n",
       "      <td>left</td>\n",
       "      <td>3</td>\n",
       "      <td>1</td>\n",
       "      <td>hit</td>\n",
       "      <td>go</td>\n",
       "      <td>1</td>\n",
       "      <td>le_lc_go</td>\n",
       "    </tr>\n",
       "    <tr>\n",
       "      <th>6</th>\n",
       "      <td>264.177063</td>\n",
       "      <td>263.206840</td>\n",
       "      <td>263.586723</td>\n",
       "      <td>263.531909</td>\n",
       "      <td>False</td>\n",
       "      <td>left</td>\n",
       "      <td>3</td>\n",
       "      <td>1</td>\n",
       "      <td>hit</td>\n",
       "      <td>go</td>\n",
       "      <td>1</td>\n",
       "      <td>le_lc_go</td>\n",
       "    </tr>\n",
       "    <tr>\n",
       "      <th>7</th>\n",
       "      <td>271.603650</td>\n",
       "      <td>270.693224</td>\n",
       "      <td>270.998028</td>\n",
       "      <td>270.956502</td>\n",
       "      <td>False</td>\n",
       "      <td>left</td>\n",
       "      <td>3</td>\n",
       "      <td>1</td>\n",
       "      <td>hit</td>\n",
       "      <td>go</td>\n",
       "      <td>1</td>\n",
       "      <td>le_lc_go</td>\n",
       "    </tr>\n",
       "  </tbody>\n",
       "</table>\n",
       "</div>"
      ],
      "text/plain": [
       "   choice_made  cpoke_start  cpoke_stop  stim_onset  is_munged correct_side  \\\n",
       "3   238.074050   237.264617  237.588191  237.523909      False         left   \n",
       "4   250.086150   249.086196  249.487838  249.413257      False         left   \n",
       "5   256.169274   255.248223  255.625775  255.586242      False         left   \n",
       "6   264.177063   263.206840  263.586723  263.531909      False         left   \n",
       "7   271.603650   270.693224  270.998028  270.956502      False         left   \n",
       "\n",
       "   stim_number  nonrandom outcome go_or_nogo  block stim_name  \n",
       "3            3          1     hit         go      1  le_lc_go  \n",
       "4            3          1     hit         go      1  le_lc_go  \n",
       "5            3          1     hit         go      1  le_lc_go  \n",
       "6            3          1     hit         go      1  le_lc_go  \n",
       "7            3          1     hit         go      1  le_lc_go  "
      ]
     },
     "execution_count": 53,
     "metadata": {},
     "output_type": "execute_result"
    }
   ],
   "source": [
    "trial_info.head()"
   ]
  },
  {
   "cell_type": "markdown",
   "metadata": {},
   "source": [
    "Let's breakdown what is going on in this dataframe.\n",
    "\n",
    "Each row in the data frame represents a different session\n",
    "\n",
    "<b> block </b> - Number (1-4) representing the type of repeated trial (will explain in more detail a little later)\n",
    "<br> \n",
    "<b> stimulus_name </b> - Gives localization sound (left, right), pitch discrimination (low, high warble), and block (localization, pitch discrimination)\n",
    "<br>\n",
    "<b> nonrandom </b> - whether or not trial was nonrandom\n",
    "<br>\n",
    "<b> is_munged </b> - whether or not trial was unsuitable for analysis\n",
    "<br>\n",
    "<b> correct_side </b> - 'left' for blocks 1 and 2, 'right' for 3 and 4. \n",
    "<br> \n",
    "<b> outcome </b> - 'hit' for success, 'wrong_port' or 'future_trial' for incorrect\n",
    "<br> \n",
    "<b> cpoke_start </b> - time when the rat initiated a trial by poking center port\n",
    "<br> \n",
    "<b> stim_onset </b> - time at which auditory stimulus began\n",
    "<br> \n",
    "<b> choice_made </b> - time at which rat entered the choice port.\n",
    "<br> \n",
    "<b> cpoke_stop </b> - time at which rat withdrew from center port \n",
    "\n"
   ]
  },
  {
   "cell_type": "code",
   "execution_count": 54,
   "metadata": {},
   "outputs": [],
   "source": [
    "# lets summarise how much time is going on in each trial\n",
    "# from stimulation to choice made\n",
    "trial_info['stim_choice'] = trial_info['choice_made'] - trial_info['stim_onset']"
   ]
  },
  {
   "cell_type": "markdown",
   "metadata": {},
   "source": [
    "It does seem that our time variables between our trial_info and spike_times datasets can align and give us the information we need on when we see neuronal spikes in relation to our trial_info data.  It would make the most sense to add information into our trial_info dataframe since for the purposes of this analysis we aren't so worried about pre or post trial activity.  We should be adding different columns to account for the spiking activity in the different tetrode locations."
   ]
  },
  {
   "cell_type": "code",
   "execution_count": 75,
   "metadata": {},
   "outputs": [],
   "source": [
    "# loop through each trial in our trial_info set\n",
    "# isolate the spike data that pertains the interval of the trial\n",
    "a1_spike = [None] * len(trial_info)\n",
    "mpfc_spike = [None] * len(trial_info)\n",
    "for i in range(len(trial_info)):\n",
    "    start = trial_info.iloc[i, 1]\n",
    "    stop = trial_info.iloc[i, 0]\n",
    "    stim = trial_info.iloc[i, 3]\n",
    "    # subset spike data by start and stop times\n",
    "    spike = spike_times[(spike_times['time'] >= start) & (spike_times['time'] <= stop)]\n",
    "    a1 = spike[spike['group'] < 5]\n",
    "    mpfc = spike[spike['group'] > 4]\n",
    "    a1_spike[i] = len(a1.index) / (stop - stim)\n",
    "    mpfc_spike[i] = len(mpfc.index) / (stop - stim)\n",
    "\n",
    "trial_info['a1_spike'] = a1_spike\n",
    "trial_info['mpfc_spike'] = mpfc_spike"
   ]
  },
  {
   "cell_type": "markdown",
   "metadata": {},
   "source": [
    "In calculating the spike rate for the different locations, I wasn't completely sure about what was best fitting but I figured calling for the mean was most appropriate in that it would be properly weighted for the high spikes in such a short period of time."
   ]
  },
  {
   "cell_type": "markdown",
   "metadata": {},
   "source": [
    "As a sanity check, let's go through and see how an example trial period would look based on the trial timing period, the stimulus onset, and the spiking data"
   ]
  },
  {
   "cell_type": "code",
   "execution_count": 148,
   "metadata": {},
   "outputs": [
    {
     "data": {
      "text/html": [
       "<div>\n",
       "<style scoped>\n",
       "    .dataframe tbody tr th:only-of-type {\n",
       "        vertical-align: middle;\n",
       "    }\n",
       "\n",
       "    .dataframe tbody tr th {\n",
       "        vertical-align: top;\n",
       "    }\n",
       "\n",
       "    .dataframe thead th {\n",
       "        text-align: right;\n",
       "    }\n",
       "</style>\n",
       "<table border=\"1\" class=\"dataframe\">\n",
       "  <thead>\n",
       "    <tr style=\"text-align: right;\">\n",
       "      <th></th>\n",
       "      <th>choice_made</th>\n",
       "      <th>cpoke_start</th>\n",
       "      <th>cpoke_stop</th>\n",
       "      <th>stim_onset</th>\n",
       "      <th>is_munged</th>\n",
       "      <th>correct_side</th>\n",
       "      <th>stim_number</th>\n",
       "      <th>nonrandom</th>\n",
       "      <th>outcome</th>\n",
       "      <th>go_or_nogo</th>\n",
       "      <th>block</th>\n",
       "      <th>stim_name</th>\n",
       "      <th>stim_choice</th>\n",
       "      <th>a1_spike</th>\n",
       "      <th>mpfc_spike</th>\n",
       "    </tr>\n",
       "  </thead>\n",
       "  <tbody>\n",
       "    <tr>\n",
       "      <th>3</th>\n",
       "      <td>238.074050</td>\n",
       "      <td>237.264617</td>\n",
       "      <td>237.588191</td>\n",
       "      <td>237.523909</td>\n",
       "      <td>False</td>\n",
       "      <td>left</td>\n",
       "      <td>3</td>\n",
       "      <td>1</td>\n",
       "      <td>hit</td>\n",
       "      <td>go</td>\n",
       "      <td>1</td>\n",
       "      <td>le_lc_go</td>\n",
       "      <td>0.550141</td>\n",
       "      <td>216.308068</td>\n",
       "      <td>303.558381</td>\n",
       "    </tr>\n",
       "    <tr>\n",
       "      <th>4</th>\n",
       "      <td>250.086150</td>\n",
       "      <td>249.086196</td>\n",
       "      <td>249.487838</td>\n",
       "      <td>249.413257</td>\n",
       "      <td>False</td>\n",
       "      <td>left</td>\n",
       "      <td>3</td>\n",
       "      <td>1</td>\n",
       "      <td>hit</td>\n",
       "      <td>go</td>\n",
       "      <td>1</td>\n",
       "      <td>le_lc_go</td>\n",
       "      <td>0.672893</td>\n",
       "      <td>203.598422</td>\n",
       "      <td>315.057412</td>\n",
       "    </tr>\n",
       "    <tr>\n",
       "      <th>5</th>\n",
       "      <td>256.169274</td>\n",
       "      <td>255.248223</td>\n",
       "      <td>255.625775</td>\n",
       "      <td>255.586242</td>\n",
       "      <td>False</td>\n",
       "      <td>left</td>\n",
       "      <td>3</td>\n",
       "      <td>1</td>\n",
       "      <td>hit</td>\n",
       "      <td>go</td>\n",
       "      <td>1</td>\n",
       "      <td>le_lc_go</td>\n",
       "      <td>0.583032</td>\n",
       "      <td>284.718337</td>\n",
       "      <td>415.071311</td>\n",
       "    </tr>\n",
       "    <tr>\n",
       "      <th>6</th>\n",
       "      <td>264.177063</td>\n",
       "      <td>263.206840</td>\n",
       "      <td>263.586723</td>\n",
       "      <td>263.531909</td>\n",
       "      <td>False</td>\n",
       "      <td>left</td>\n",
       "      <td>3</td>\n",
       "      <td>1</td>\n",
       "      <td>hit</td>\n",
       "      <td>go</td>\n",
       "      <td>1</td>\n",
       "      <td>le_lc_go</td>\n",
       "      <td>0.645154</td>\n",
       "      <td>210.802447</td>\n",
       "      <td>347.204031</td>\n",
       "    </tr>\n",
       "    <tr>\n",
       "      <th>7</th>\n",
       "      <td>271.603650</td>\n",
       "      <td>270.693224</td>\n",
       "      <td>270.998028</td>\n",
       "      <td>270.956502</td>\n",
       "      <td>False</td>\n",
       "      <td>left</td>\n",
       "      <td>3</td>\n",
       "      <td>1</td>\n",
       "      <td>hit</td>\n",
       "      <td>go</td>\n",
       "      <td>1</td>\n",
       "      <td>le_lc_go</td>\n",
       "      <td>0.647148</td>\n",
       "      <td>236.421935</td>\n",
       "      <td>261.145798</td>\n",
       "    </tr>\n",
       "  </tbody>\n",
       "</table>\n",
       "</div>"
      ],
      "text/plain": [
       "   choice_made  cpoke_start  cpoke_stop  stim_onset  is_munged correct_side  \\\n",
       "3   238.074050   237.264617  237.588191  237.523909      False         left   \n",
       "4   250.086150   249.086196  249.487838  249.413257      False         left   \n",
       "5   256.169274   255.248223  255.625775  255.586242      False         left   \n",
       "6   264.177063   263.206840  263.586723  263.531909      False         left   \n",
       "7   271.603650   270.693224  270.998028  270.956502      False         left   \n",
       "\n",
       "   stim_number  nonrandom outcome go_or_nogo  block stim_name  stim_choice  \\\n",
       "3            3          1     hit         go      1  le_lc_go     0.550141   \n",
       "4            3          1     hit         go      1  le_lc_go     0.672893   \n",
       "5            3          1     hit         go      1  le_lc_go     0.583032   \n",
       "6            3          1     hit         go      1  le_lc_go     0.645154   \n",
       "7            3          1     hit         go      1  le_lc_go     0.647148   \n",
       "\n",
       "     a1_spike  mpfc_spike  \n",
       "3  216.308068  303.558381  \n",
       "4  203.598422  315.057412  \n",
       "5  284.718337  415.071311  \n",
       "6  210.802447  347.204031  \n",
       "7  236.421935  261.145798  "
      ]
     },
     "execution_count": 148,
     "metadata": {},
     "output_type": "execute_result"
    }
   ],
   "source": [
    "trial_info.head()"
   ]
  },
  {
   "cell_type": "code",
   "execution_count": 165,
   "metadata": {},
   "outputs": [
    {
     "data": {
      "text/plain": [
       "Text(0.5, 1.0, 'Neuronal Spikes During a Trial')"
      ]
     },
     "execution_count": 165,
     "metadata": {},
     "output_type": "execute_result"
    },
    {
     "data": {
      "image/png": "[encoded data removed]",
      "text/plain": [
       "<Figure size 432x288 with 1 Axes>"
      ]
     },
     "metadata": {},
     "output_type": "display_data"
    }
   ],
   "source": [
    "# go through an example and plot spiking data for a trial\n",
    "start = trial_info.iloc[1, 1]\n",
    "stop = trial_info.iloc[1, 0]\n",
    "stim = trial_info.iloc[1, 3]\n",
    "spike = spike_times[(spike_times['time'] >= start) & (spike_times['time'] <= stop)]\n",
    "plt.hist(spike['time'], alpha = 0.5, edgecolor = 'black')\n",
    "plt.ylabel('Spike Count')\n",
    "plt.xlabel('Time (in seconds)')\n",
    "plt.title('Neuronal Spikes During a Trial')"
   ]
  },
  {
   "cell_type": "markdown",
   "metadata": {},
   "source": [
    "Sweet.  We are able to incorporate both our trial data and our spike data together but we need to apply our method to each of the other sessions as well. Best to rework everything that was done above into a function to make things a little quicker."
   ]
  },
  {
   "cell_type": "code",
   "execution_count": 90,
   "metadata": {},
   "outputs": [
    {
     "data": {
      "text/plain": [
       "['CR24A', 'YT6A', 'CR20B', 'CR21A']"
      ]
     },
     "execution_count": 90,
     "metadata": {},
     "output_type": "execute_result"
    }
   ],
   "source": [
    "# quick and easy way to grab the directory names we need\n",
    "import os\n",
    "def get_immediate_subdirectories(a_dir):\n",
    "    return [name for name in os.listdir(a_dir)\n",
    "            if os.path.isdir(os.path.join(a_dir, name))]\n",
    "rats = get_immediate_subdirectories('data')\n",
    "rats.remove('CR12B')\n",
    "rats.remove('CR17B')\n",
    "rats.remove('miscellaneous')\n",
    "rats"
   ]
  },
  {
   "cell_type": "code",
   "execution_count": 181,
   "metadata": {},
   "outputs": [],
   "source": [
    "import itertools\n",
    "# grab a list of directories to import the data through\n",
    "trial_list = []\n",
    "timing_list = []\n",
    "spike_list = []\n",
    "for i in range(len(rats)):\n",
    "    sub_list = get_immediate_subdirectories('data/' + rats[i])\n",
    "    trial_list.append(['./data/' + rats[i] + '/' + sub_list[j] + '/trials_info' for j in range(len(sub_list))])\n",
    "    timing_list.append(['./data/' + rats[i] + '/' + sub_list[j] + '/trial_timings' for j in range(len(sub_list))])\n",
    "    spike_list.append(['./data/' + rats[i] + '/' + sub_list[j] + '/klusters0/' + sub_list[j] + '.kkp' for j in range(len(sub_list))])\n",
    "# flatten each list \n",
    "trial_list = list(itertools.chain.from_iterable(trial_list))\n",
    "timing_list = list(itertools.chain.from_iterable(timing_list))\n",
    "spike_list = list(itertools.chain.from_iterable(spike_list))\n",
    "def work_thru_data(lst, lst2, lst3):\n",
    "    t = 0\n",
    "    for i in range(len(lst)):\n",
    "        t += 1\n",
    "        trial_info = pd.read_table(lst[i], sep = ',', index_col = 0)\n",
    "        trial_timing = pd.read_table(lst2[i], sep = ',', index_col = 0)\n",
    "        trial_info = trial_timing.join(trial_info)\n",
    "        trial_info['stim_choice'] = trial_info['choice_made'] - trial_info['stim_onset']\n",
    "        \n",
    "        spike_times = pd.read_pickle(lst3[i])\n",
    "        # loop through each trial in our trial_info set\n",
    "        # isolate the spike data that pertains the interval of the trial\n",
    "        a1_spike = [None] * len(trial_info)\n",
    "        mpfc_spike = [None] * len(trial_info)\n",
    "        for i in range(len(trial_info)):\n",
    "            start = trial_info.iloc[i, 1]\n",
    "            stop = trial_info.iloc[i, 0]\n",
    "            stim = trial_info.iloc[i, 3]\n",
    "            # subset spike data by start and stop times\n",
    "            spike = spike_times[(spike_times['time'] >= start) & (spike_times['time'] <= stop)]\n",
    "            a1 = spike[spike['group'] < 5]\n",
    "            mpfc = spike[spike['group'] > 4]\n",
    "            a1_spike[i] = len(a1.index) / (stop - stim)\n",
    "            mpfc_spike[i] = len(mpfc.index) / (stop - stim)\n",
    "\n",
    "        trial_info['a1_spike'] = a1_spike\n",
    "        trial_info['mpfc_spike'] = mpfc_spike\n",
    "        \n",
    "        if t == 1:\n",
    "            df = trial_info\n",
    "            df = df.reset_index(drop = True)\n",
    "        else:\n",
    "            trial_info = trial_info.reset_index(drop = True)\n",
    "            df.append(trial_info)\n",
    "    return df\n",
    "\n",
    "dat = work_thru_data(trial_list, timing_list, spike_list)\n",
    "    \n",
    "        "
   ]
  },
  {
   "cell_type": "code",
   "execution_count": 182,
   "metadata": {},
   "outputs": [
    {
     "data": {
      "text/plain": [
       "1433"
      ]
     },
     "execution_count": 182,
     "metadata": {},
     "output_type": "execute_result"
    }
   ],
   "source": [
    "len(dat)"
   ]
  },
  {
   "cell_type": "markdown",
   "metadata": {},
   "source": [
    "So we have 1433 examples to work with in this case.  Before we go into prediction, let's see how well trained these rats were.  What does the class balance look like."
   ]
  },
  {
   "cell_type": "code",
   "execution_count": 184,
   "metadata": {},
   "outputs": [
    {
     "name": "stdout",
     "output_type": "stream",
     "text": [
      "19.58684009181331\n",
      "1307\n"
     ]
    }
   ],
   "source": [
    "# drop rows that weren't used for analysis in the paper\n",
    "dat = dat[dat['nonrandom'] != 1]\n",
    "dat = dat[dat['is_munged'] != True]\n",
    "\n",
    "# pct of wrong choices\n",
    "print((len(dat[dat['outcome'] != 'hit']) / len(dat)) * 100)\n",
    "print(len(dat))"
   ]
  },
  {
   "cell_type": "markdown",
   "metadata": {},
   "source": [
    "Alright, these rats have been well trained, making a mistake about roughly 20% of the time.  Nevertheless it's important for us to get a better understanding as to why these rats chose incorrectly in the first place. Some more cleaning will be needed and a lot of class imbalance will need to be accounted for.\n",
    "\n",
    "After getting rid of the bad trials in the set we have made our way down to 1307 trials in the set. "
   ]
  },
  {
   "cell_type": "code",
   "execution_count": 185,
   "metadata": {},
   "outputs": [],
   "source": [
    "# reset timing variables (may be adding some bias)\n",
    "dat['choice_made'] = dat['choice_made'] - dat['cpoke_start']\n",
    "dat['cpoke_stop'] = dat['cpoke_stop'] - dat['cpoke_start']\n",
    "dat['stim_onset'] = dat['stim_onset'] - dat['cpoke_start']"
   ]
  },
  {
   "cell_type": "code",
   "execution_count": 186,
   "metadata": {},
   "outputs": [
    {
     "data": {
      "text/html": [
       "<div>\n",
       "<style scoped>\n",
       "    .dataframe tbody tr th:only-of-type {\n",
       "        vertical-align: middle;\n",
       "    }\n",
       "\n",
       "    .dataframe tbody tr th {\n",
       "        vertical-align: top;\n",
       "    }\n",
       "\n",
       "    .dataframe thead th {\n",
       "        text-align: right;\n",
       "    }\n",
       "</style>\n",
       "<table border=\"1\" class=\"dataframe\">\n",
       "  <thead>\n",
       "    <tr style=\"text-align: right;\">\n",
       "      <th></th>\n",
       "      <th>choice_made</th>\n",
       "      <th>cpoke_stop</th>\n",
       "      <th>stim_onset</th>\n",
       "      <th>stim_number</th>\n",
       "      <th>outcome</th>\n",
       "      <th>go_or_nogo</th>\n",
       "      <th>block</th>\n",
       "      <th>stim_choice</th>\n",
       "      <th>a1_spike</th>\n",
       "      <th>mpfc_spike</th>\n",
       "    </tr>\n",
       "  </thead>\n",
       "  <tbody>\n",
       "    <tr>\n",
       "      <th>1</th>\n",
       "      <td>0.836509</td>\n",
       "      <td>0.360118</td>\n",
       "      <td>0.297995</td>\n",
       "      <td>3</td>\n",
       "      <td>hit</td>\n",
       "      <td>go</td>\n",
       "      <td>1</td>\n",
       "      <td>0.538514</td>\n",
       "      <td>189.410016</td>\n",
       "      <td>50.137945</td>\n",
       "    </tr>\n",
       "    <tr>\n",
       "      <th>2</th>\n",
       "      <td>0.929028</td>\n",
       "      <td>0.398154</td>\n",
       "      <td>0.330052</td>\n",
       "      <td>4</td>\n",
       "      <td>error</td>\n",
       "      <td>nogo</td>\n",
       "      <td>1</td>\n",
       "      <td>0.598976</td>\n",
       "      <td>193.663751</td>\n",
       "      <td>38.398847</td>\n",
       "    </tr>\n",
       "    <tr>\n",
       "      <th>3</th>\n",
       "      <td>1.284496</td>\n",
       "      <td>0.435858</td>\n",
       "      <td>0.334039</td>\n",
       "      <td>3</td>\n",
       "      <td>error</td>\n",
       "      <td>go</td>\n",
       "      <td>1</td>\n",
       "      <td>0.950457</td>\n",
       "      <td>139.932748</td>\n",
       "      <td>14.729763</td>\n",
       "    </tr>\n",
       "    <tr>\n",
       "      <th>4</th>\n",
       "      <td>0.778703</td>\n",
       "      <td>0.342177</td>\n",
       "      <td>0.285202</td>\n",
       "      <td>3</td>\n",
       "      <td>hit</td>\n",
       "      <td>go</td>\n",
       "      <td>1</td>\n",
       "      <td>0.493501</td>\n",
       "      <td>198.581101</td>\n",
       "      <td>12.158027</td>\n",
       "    </tr>\n",
       "    <tr>\n",
       "      <th>5</th>\n",
       "      <td>0.857935</td>\n",
       "      <td>0.382210</td>\n",
       "      <td>0.343839</td>\n",
       "      <td>3</td>\n",
       "      <td>hit</td>\n",
       "      <td>go</td>\n",
       "      <td>1</td>\n",
       "      <td>0.514096</td>\n",
       "      <td>171.174367</td>\n",
       "      <td>33.067775</td>\n",
       "    </tr>\n",
       "  </tbody>\n",
       "</table>\n",
       "</div>"
      ],
      "text/plain": [
       "   choice_made  cpoke_stop  stim_onset  stim_number outcome go_or_nogo  block  \\\n",
       "1     0.836509    0.360118    0.297995            3     hit         go      1   \n",
       "2     0.929028    0.398154    0.330052            4   error       nogo      1   \n",
       "3     1.284496    0.435858    0.334039            3   error         go      1   \n",
       "4     0.778703    0.342177    0.285202            3     hit         go      1   \n",
       "5     0.857935    0.382210    0.343839            3     hit         go      1   \n",
       "\n",
       "   stim_choice    a1_spike  mpfc_spike  \n",
       "1     0.538514  189.410016   50.137945  \n",
       "2     0.598976  193.663751   38.398847  \n",
       "3     0.950457  139.932748   14.729763  \n",
       "4     0.493501  198.581101   12.158027  \n",
       "5     0.514096  171.174367   33.067775  "
      ]
     },
     "execution_count": 186,
     "metadata": {},
     "output_type": "execute_result"
    }
   ],
   "source": [
    "# now for the columns to drop\n",
    "dat.drop(columns = ['cpoke_start', 'is_munged', 'nonrandom', 'stim_name', 'correct_side'], inplace = True)"
   ]
  },
  {
   "cell_type": "code",
   "execution_count": 192,
   "metadata": {},
   "outputs": [],
   "source": [
    "# transform some of our categorical variables\n",
    "dat['go'] = [1 if i == 'go' else 0 for i in dat['go_or_nogo']]\n",
    "dat['correct_choice'] = [1 if i == 'hit' else 0 for i in dat['outcome']]\n",
    "dat.drop(columns = ['outcome', 'go_or_nogo'], inplace = True)"
   ]
  },
  {
   "cell_type": "markdown",
   "metadata": {},
   "source": [
    "Before we go forward with fitting our model, let's take a look at which variables have some relation with one another.  Here's a heatmap for all of our variables."
   ]
  },
  {
   "cell_type": "code",
   "execution_count": 194,
   "metadata": {},
   "outputs": [
    {
     "data": {
      "image/png": "[encoded data removed]",
      "text/plain": [
       "<Figure size 432x288 with 2 Axes>"
      ]
     },
     "metadata": {},
     "output_type": "display_data"
    }
   ],
   "source": [
    "import seaborn as sns\n",
    "sns.heatmap(dat.corr())\n",
    "plt.show()"
   ]
  },
  {
   "cell_type": "markdown",
   "metadata": {},
   "source": [
    "Of course our choice_made and stim_choice are going to be highly correlated to one another but it appears that many of the other variables are largely uncorrelated with one another.  Before going into fitting a model it'd be useful to drop one of either our choice_made or stim_choice columns since including both adds in unnecessary noise and could cause error later on."
   ]
  },
  {
   "cell_type": "markdown",
   "metadata": {},
   "source": [
    "#### Modeling"
   ]
  },
  {
   "cell_type": "markdown",
   "metadata": {},
   "source": [
    "Now that we have done our work gathering and cleaning up the data, it is time to do a little bit of prediction to see if anything about the neuronal firing of the rats can tell us how they responded to the audio stimuli.\n",
    "\n",
    "First up, some logistic regression."
   ]
  },
  {
   "cell_type": "code",
   "execution_count": 222,
   "metadata": {},
   "outputs": [],
   "source": [
    "from sklearn.model_selection import train_test_split\n",
    "# set up data for splitting\n",
    "y = dat['correct_choice']\n",
    "X = dat.drop(columns = ['correct_choice'])\n",
    "# split data into test and train splits\n",
    "X_train, X_test, y_train, y_test = train_test_split(X, y, test_size = 0.2)"
   ]
  },
  {
   "cell_type": "code",
   "execution_count": 223,
   "metadata": {},
   "outputs": [
    {
     "data": {
      "text/plain": [
       "(<Figure size 432x288 with 1 Axes>,\n",
       " <matplotlib.axes._subplots.AxesSubplot at 0x117d9c080>)"
      ]
     },
     "execution_count": 223,
     "metadata": {},
     "output_type": "execute_result"
    },
    {
     "data": {
      "image/png": "[encoded data removed]",
      "text/plain": [
       "<Figure size 432x288 with 1 Axes>"
      ]
     },
     "metadata": {},
     "output_type": "display_data"
    }
   ],
   "source": [
    "from sklearn.linear_model import LogisticRegression\n",
    "from sklearn.metrics import confusion_matrix, classification_report\n",
    "from mlxtend.plotting import plot_decision_regions, plot_confusion_matrix\n",
    "lr = LogisticRegression()\n",
    "lr.fit(X_train, y_train)\n",
    "\n",
    "# get our predictions\n",
    "y_pred = lr.predict(X_test)\n",
    "cm = confusion_matrix(y_test, y_pred)\n",
    "plot_confusion_matrix(cm)"
   ]
  },
  {
   "cell_type": "code",
   "execution_count": 203,
   "metadata": {},
   "outputs": [
    {
     "name": "stdout",
     "output_type": "stream",
     "text": [
      "             precision    recall  f1-score   support\n",
      "\n",
      "          0       0.67      0.04      0.07        57\n",
      "          1       0.79      1.00      0.88       205\n",
      "\n",
      "avg / total       0.76      0.79      0.70       262\n",
      "\n"
     ]
    }
   ],
   "source": [
    "print(classification_report(y_test, y_pred))"
   ]
  },
  {
   "cell_type": "markdown",
   "metadata": {},
   "source": [
    "Here we see some of our class imbalance rise up. We didn't make any error in predicting any rat mistakes that actually weren't,  but we incorrectly predicted far fewer mistakes than there actually were.\n",
    "\n",
    "One solution for us is to retry our logistic regression but try and account for our imbalance."
   ]
  },
  {
   "cell_type": "code",
   "execution_count": 225,
   "metadata": {},
   "outputs": [
    {
     "name": "stdout",
     "output_type": "stream",
     "text": [
      "             precision    recall  f1-score   support\n",
      "\n",
      "          0       0.22      0.51      0.31        47\n",
      "          1       0.85      0.60      0.71       215\n",
      "\n",
      "avg / total       0.74      0.59      0.63       262\n",
      "\n"
     ]
    },
    {
     "data": {
      "image/png": "[encoded data removed]",
      "text/plain": [
       "<Figure size 432x288 with 1 Axes>"
      ]
     },
     "metadata": {},
     "output_type": "display_data"
    }
   ],
   "source": [
    "lr = LogisticRegression(class_weight = 'balanced')\n",
    "lr.fit(X_train, y_train)\n",
    "y_pred = lr.predict(X_test)\n",
    "cm = confusion_matrix(y_test, y_pred)\n",
    "plot_confusion_matrix(cm)\n",
    "print(classification_report(y_test, y_pred))"
   ]
  },
  {
   "cell_type": "markdown",
   "metadata": {},
   "source": [
    "We've made things a little better by adjusting for our class imbalance but we've created a new issue where we predict far more errors that didn't occur in the first place.  We can be dealing with a threshold that is far too high or far too low.  We may be asking for too high or too low of a probability to classify in this situation."
   ]
  },
  {
   "cell_type": "code",
   "execution_count": 227,
   "metadata": {},
   "outputs": [
    {
     "name": "stdout",
     "output_type": "stream",
     "text": [
      "Best parameters : {'class_weight': {0: 0.618421052631579, 1: 0.381578947368421}}\n"
     ]
    },
    {
     "name": "stderr",
     "output_type": "stream",
     "text": [
      "/Users/owenmcgrattan/miniconda3/lib/python3.6/site-packages/sklearn/metrics/classification.py:1135: UndefinedMetricWarning: F-score is ill-defined and being set to 0.0 due to no predicted samples.\n",
      "  'precision', 'predicted', average, warn_for)\n",
      "/Users/owenmcgrattan/miniconda3/lib/python3.6/site-packages/sklearn/metrics/classification.py:1135: UndefinedMetricWarning: F-score is ill-defined and being set to 0.0 due to no predicted samples.\n",
      "  'precision', 'predicted', average, warn_for)\n",
      "/Users/owenmcgrattan/miniconda3/lib/python3.6/site-packages/sklearn/metrics/classification.py:1135: UndefinedMetricWarning: F-score is ill-defined and being set to 0.0 due to no predicted samples.\n",
      "  'precision', 'predicted', average, warn_for)\n",
      "/Users/owenmcgrattan/miniconda3/lib/python3.6/site-packages/sklearn/metrics/classification.py:1135: UndefinedMetricWarning: F-score is ill-defined and being set to 0.0 due to no predicted samples.\n",
      "  'precision', 'predicted', average, warn_for)\n",
      "/Users/owenmcgrattan/miniconda3/lib/python3.6/site-packages/sklearn/metrics/classification.py:1135: UndefinedMetricWarning: F-score is ill-defined and being set to 0.0 due to no predicted samples.\n",
      "  'precision', 'predicted', average, warn_for)\n"
     ]
    },
    {
     "data": {
      "text/plain": [
       "<matplotlib.axes._subplots.AxesSubplot at 0x117f07f60>"
      ]
     },
     "execution_count": 227,
     "metadata": {},
     "output_type": "execute_result"
    },
    {
     "data": {
      "image/png": "[encoded data removed]",
      "text/plain": [
       "<Figure size 432x288 with 1 Axes>"
      ]
     },
     "metadata": {},
     "output_type": "display_data"
    }
   ],
   "source": [
    "from sklearn.model_selection import GridSearchCV\n",
    "\n",
    "weights = np.linspace(0.05, 0.95, 20)\n",
    "\n",
    "gsc = GridSearchCV(\n",
    "    estimator=LogisticRegression(),\n",
    "    param_grid={\n",
    "        'class_weight': [{0: x, 1: 1.0-x} for x in weights]\n",
    "    },\n",
    "    scoring='f1',\n",
    "    cv=5\n",
    ")\n",
    "grid_result = gsc.fit(X, y)\n",
    "\n",
    "print(\"Best parameters : %s\" % grid_result.best_params_)\n",
    "\n",
    "# Plot the weights vs f1 score\n",
    "dataz = pd.DataFrame({ 'score': grid_result.cv_results_['mean_test_score'],\n",
    "                       'weight': weights })\n",
    "dataz.plot(x='weight')"
   ]
  },
  {
   "cell_type": "markdown",
   "metadata": {},
   "source": [
    "It does seem that we needed a tiny bit of tuning to give ourself the weights that gave us the best balance between our false negatives and false positives.  Let's see how our updated model does now."
   ]
  },
  {
   "cell_type": "code",
   "execution_count": 228,
   "metadata": {},
   "outputs": [
    {
     "name": "stdout",
     "output_type": "stream",
     "text": [
      "             precision    recall  f1-score   support\n",
      "\n",
      "          0       0.83      0.11      0.19        47\n",
      "          1       0.84      1.00      0.91       215\n",
      "\n",
      "avg / total       0.84      0.84      0.78       262\n",
      "\n"
     ]
    },
    {
     "data": {
      "text/plain": [
       "(<Figure size 432x288 with 1 Axes>,\n",
       " <matplotlib.axes._subplots.AxesSubplot at 0x1166f9828>)"
      ]
     },
     "execution_count": 228,
     "metadata": {},
     "output_type": "execute_result"
    },
    {
     "data": {
      "image/png": "[encoded data removed]",
      "text/plain": [
       "<Figure size 432x288 with 1 Axes>"
      ]
     },
     "metadata": {},
     "output_type": "display_data"
    }
   ],
   "source": [
    "lr = LogisticRegression(**grid_result.best_params_)\n",
    "\n",
    "# Fit..\n",
    "lr.fit(X_train, y_train)\n",
    "\n",
    "# Predict..\n",
    "y_pred = lr.predict(X_test)\n",
    "\n",
    "# Evaluate the model\n",
    "print(classification_report(y_test, y_pred))\n",
    "plot_confusion_matrix(confusion_matrix(y_test, y_pred))"
   ]
  },
  {
   "cell_type": "markdown",
   "metadata": {},
   "source": [
    "Well it does appear that our best case scenario with our data here was to follow something similar to our original model.  \n",
    "\n",
    "Maybe a different kind of classifier might work better.\n",
    "Let's try a Random Forest."
   ]
  },
  {
   "cell_type": "code",
   "execution_count": 230,
   "metadata": {},
   "outputs": [
    {
     "name": "stdout",
     "output_type": "stream",
     "text": [
      "             precision    recall  f1-score   support\n",
      "\n",
      "          0       0.98      0.85      0.91        47\n",
      "          1       0.97      1.00      0.98       215\n",
      "\n",
      "avg / total       0.97      0.97      0.97       262\n",
      "\n"
     ]
    },
    {
     "data": {
      "text/plain": [
       "(<Figure size 432x288 with 1 Axes>,\n",
       " <matplotlib.axes._subplots.AxesSubplot at 0x11812ae10>)"
      ]
     },
     "execution_count": 230,
     "metadata": {},
     "output_type": "execute_result"
    },
    {
     "data": {
      "image/png": "[encoded data removed]",
      "text/plain": [
       "<Figure size 432x288 with 1 Axes>"
      ]
     },
     "metadata": {},
     "output_type": "display_data"
    }
   ],
   "source": [
    "# train a random forest classifier\n",
    "from sklearn.ensemble import RandomForestClassifier\n",
    "from sklearn import metrics\n",
    "\n",
    "rfc = RandomForestClassifier()\n",
    "rfc.fit(X_train, y_train)\n",
    "\n",
    "y_pred = rfc.predict(X_test)\n",
    "metrics.accuracy_score(y_test, y_pred)\n",
    "print(classification_report(y_test, y_pred))\n",
    "plot_confusion_matrix(confusion_matrix(y_test, y_pred))"
   ]
  },
  {
   "cell_type": "markdown",
   "metadata": {},
   "source": [
    "And we have something much better.  A total of 8 total incorrect classifications, still weighted towards our false positives but nevertheless a remarkable jump.\n",
    "\n",
    "Now that we've built our Random Forest classifier, it's time we take a look at which features it found most important in making its predictions."
   ]
  },
  {
   "cell_type": "code",
   "execution_count": 247,
   "metadata": {},
   "outputs": [
    {
     "data": {
      "text/html": [
       "<div>\n",
       "<style scoped>\n",
       "    .dataframe tbody tr th:only-of-type {\n",
       "        vertical-align: middle;\n",
       "    }\n",
       "\n",
       "    .dataframe tbody tr th {\n",
       "        vertical-align: top;\n",
       "    }\n",
       "\n",
       "    .dataframe thead th {\n",
       "        text-align: right;\n",
       "    }\n",
       "</style>\n",
       "<table border=\"1\" class=\"dataframe\">\n",
       "  <thead>\n",
       "    <tr style=\"text-align: right;\">\n",
       "      <th></th>\n",
       "      <th>importance</th>\n",
       "    </tr>\n",
       "  </thead>\n",
       "  <tbody>\n",
       "    <tr>\n",
       "      <th>stim_choice</th>\n",
       "      <td>0.305414</td>\n",
       "    </tr>\n",
       "    <tr>\n",
       "      <th>go</th>\n",
       "      <td>0.217278</td>\n",
       "    </tr>\n",
       "    <tr>\n",
       "      <th>choice_made</th>\n",
       "      <td>0.149246</td>\n",
       "    </tr>\n",
       "    <tr>\n",
       "      <th>stim_number</th>\n",
       "      <td>0.069834</td>\n",
       "    </tr>\n",
       "    <tr>\n",
       "      <th>cpoke_stop</th>\n",
       "      <td>0.068868</td>\n",
       "    </tr>\n",
       "    <tr>\n",
       "      <th>mpfc_spike</th>\n",
       "      <td>0.067862</td>\n",
       "    </tr>\n",
       "    <tr>\n",
       "      <th>a1_spike</th>\n",
       "      <td>0.044382</td>\n",
       "    </tr>\n",
       "    <tr>\n",
       "      <th>stim_onset</th>\n",
       "      <td>0.041388</td>\n",
       "    </tr>\n",
       "    <tr>\n",
       "      <th>block</th>\n",
       "      <td>0.035728</td>\n",
       "    </tr>\n",
       "  </tbody>\n",
       "</table>\n",
       "</div>"
      ],
      "text/plain": [
       "             importance\n",
       "stim_choice    0.305414\n",
       "go             0.217278\n",
       "choice_made    0.149246\n",
       "stim_number    0.069834\n",
       "cpoke_stop     0.068868\n",
       "mpfc_spike     0.067862\n",
       "a1_spike       0.044382\n",
       "stim_onset     0.041388\n",
       "block          0.035728"
      ]
     },
     "execution_count": 247,
     "metadata": {},
     "output_type": "execute_result"
    }
   ],
   "source": [
    "feature_importances = pd.DataFrame(rfc.feature_importances_,\n",
    "                                   index = X_train.columns,\n",
    "                                    columns=['importance']).sort_values('importance',ascending=False)\n",
    "feature_importances"
   ]
  },
  {
   "cell_type": "markdown",
   "metadata": {},
   "source": [
    "While none of these features have drastic standouts over one another, the biggest factor in classification for this problem was the time from the stimulus onset to the rat making its choice.  Unfortunately, our measures of a1 and mpfc spikes were not very important factors in classification for this problem."
   ]
  },
  {
   "cell_type": "markdown",
   "metadata": {},
   "source": [
    "### Discussion"
   ]
  },
  {
   "cell_type": "markdown",
   "metadata": {},
   "source": [
    "There were likely many issues that I had brought about through my analysis.  Maybe things would be different if I had incorporated the data in a timeseries format, but the low number of errors may suggest that it would not make much of a difference at all.  There may have been issues in  the recording of the neural spike data or that these rats have already had extensive training, already altering their brain chemistry by quite a bit.  I could also be misinterpreting the spike data itself, making the incorrect assumption that more spikes equals more meaningful thinking  or greater processing.  I'm sure there were quite a few errors made here but in working through this information and trying to predict rat behavior like a data scientist, I was able to find that there was no way for the simplicity of our neuronal data to tell us about the complex nature of what truly goes on behind the decision making process of rats filtering through multiple audial stimuli."
   ]
  },
  {
   "cell_type": "markdown",
   "metadata": {},
   "source": [
    "### References"
   ]
  },
  {
   "cell_type": "markdown",
   "metadata": {},
   "source": [
    "Rodgers CC, DeWeese MR. (2014); Spiking responses of neurons in rodent prefrontal cortex and auditory cortex during a novel stimulus selection task. CRCNS.org.\n",
    "http://dx.doi.org/10.6080/K0W66HPJ"
   ]
  },
  {
   "cell_type": "code",
   "execution_count": null,
   "metadata": {},
   "outputs": [],
   "source": []
  }
 ],
 "metadata": {
  "kernelspec": {
   "display_name": "Python 3",
   "language": "python",
   "name": "python3"
  },
  "language_info": {
   "codemirror_mode": {
    "name": "ipython",
    "version": 3
   },
   "file_extension": ".py",
   "mimetype": "text/x-python",
   "name": "python",
   "nbconvert_exporter": "python",
   "pygments_lexer": "ipython3",
   "version": "3.6.3"
  }
 },
 "nbformat": 4,
 "nbformat_minor": 2
}
